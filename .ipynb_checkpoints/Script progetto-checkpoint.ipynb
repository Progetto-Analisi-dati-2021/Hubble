{
 "cells": [
  {
   "cell_type": "code",
   "execution_count": 3,
   "metadata": {},
   "outputs": [],
   "source": [
    "import pandas as pd\n",
    "import matplotlib.pyplot as plt\n",
    "import numpy as np\n",
    "import pandas as pd"
   ]
  },
  {
   "cell_type": "code",
   "execution_count": 21,
   "metadata": {},
   "outputs": [],
   "source": [
    "df = pd.read_csv('dati supernovae 2.csv')"
   ]
  },
  {
   "cell_type": "code",
   "execution_count": 22,
   "metadata": {},
   "outputs": [
    {
     "data": {
      "text/html": [
       "<div>\n",
       "<style scoped>\n",
       "    .dataframe tbody tr th:only-of-type {\n",
       "        vertical-align: middle;\n",
       "    }\n",
       "\n",
       "    .dataframe tbody tr th {\n",
       "        vertical-align: top;\n",
       "    }\n",
       "\n",
       "    .dataframe thead th {\n",
       "        text-align: right;\n",
       "    }\n",
       "</style>\n",
       "<table border=\"1\" class=\"dataframe\">\n",
       "  <thead>\n",
       "    <tr style=\"text-align: right;\">\n",
       "      <th></th>\n",
       "      <th># alpha 0.121851859725;;;;</th>\n",
       "    </tr>\n",
       "  </thead>\n",
       "  <tbody>\n",
       "    <tr>\n",
       "      <th>0</th>\n",
       "      <td># beta 2.46569277393;;;;</td>\n",
       "    </tr>\n",
       "    <tr>\n",
       "      <th>1</th>\n",
       "      <td># delta -0.0363405630486;;;;</td>\n",
       "    </tr>\n",
       "    <tr>\n",
       "      <th>2</th>\n",
       "      <td># M(h=0.7 statistical only) -19.3182761161;;;;</td>\n",
       "    </tr>\n",
       "    <tr>\n",
       "      <th>3</th>\n",
       "      <td># M(h=0.7 with systematics) -19.3081547178;;;;</td>\n",
       "    </tr>\n",
       "    <tr>\n",
       "      <th>4</th>\n",
       "      <td># nome_SN;redshift;mod_dist;mod_dist_err;unknown;</td>\n",
       "    </tr>\n",
       "    <tr>\n",
       "      <th>...</th>\n",
       "      <td>...</td>\n",
       "    </tr>\n",
       "    <tr>\n",
       "      <th>580</th>\n",
       "      <td>D-000;1.017;442.939.707.709;0.171046154322;1.4...</td>\n",
       "    </tr>\n",
       "    <tr>\n",
       "      <th>581</th>\n",
       "      <td>D-006;1.315;449.713.577.744;0.187508839367;0.5...</td>\n",
       "    </tr>\n",
       "    <tr>\n",
       "      <th>582</th>\n",
       "      <td>P-009;0.821;436.409.387.868;0.194013591972;0.5...</td>\n",
       "    </tr>\n",
       "    <tr>\n",
       "      <th>583</th>\n",
       "      <td>R-012;1.215;452.465.209.495;0.560317445151;0.0...</td>\n",
       "    </tr>\n",
       "    <tr>\n",
       "      <th>584</th>\n",
       "      <td>Z-005;0.623;425.145.239.973;0.241428134977;0.5...</td>\n",
       "    </tr>\n",
       "  </tbody>\n",
       "</table>\n",
       "<p>585 rows × 1 columns</p>\n",
       "</div>"
      ],
      "text/plain": [
       "                            # alpha 0.121851859725;;;;\n",
       "0                             # beta 2.46569277393;;;;\n",
       "1                         # delta -0.0363405630486;;;;\n",
       "2       # M(h=0.7 statistical only) -19.3182761161;;;;\n",
       "3       # M(h=0.7 with systematics) -19.3081547178;;;;\n",
       "4    # nome_SN;redshift;mod_dist;mod_dist_err;unknown;\n",
       "..                                                 ...\n",
       "580  D-000;1.017;442.939.707.709;0.171046154322;1.4...\n",
       "581  D-006;1.315;449.713.577.744;0.187508839367;0.5...\n",
       "582  P-009;0.821;436.409.387.868;0.194013591972;0.5...\n",
       "583  R-012;1.215;452.465.209.495;0.560317445151;0.0...\n",
       "584  Z-005;0.623;425.145.239.973;0.241428134977;0.5...\n",
       "\n",
       "[585 rows x 1 columns]"
      ]
     },
     "execution_count": 22,
     "metadata": {},
     "output_type": "execute_result"
    }
   ],
   "source": [
    "df"
   ]
  }
 ],
 "metadata": {
  "kernelspec": {
   "display_name": "Python 3",
   "language": "python",
   "name": "python3"
  },
  "language_info": {
   "codemirror_mode": {
    "name": "ipython",
    "version": 3
   },
   "file_extension": ".py",
   "mimetype": "text/x-python",
   "name": "python",
   "nbconvert_exporter": "python",
   "pygments_lexer": "ipython3",
   "version": "3.7.6"
  }
 },
 "nbformat": 4,
 "nbformat_minor": 4
}
